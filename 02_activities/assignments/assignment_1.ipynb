{
 "cells": [
  {
   "cell_type": "markdown",
   "metadata": {},
   "source": [
    "# Assignment #1: Anagram Checker\n",
    "\n",
    "**Background**: Anagram Checker is a program that takes two words and determines if an anagram can be made from it. If so, the program will return `true`, otherwise `false`."
   ]
  },
  {
   "cell_type": "markdown",
   "metadata": {},
   "source": [
    "## Submission Information\n",
    "\n",
    "🚨 **Please review our [Assignment Submission Guide](https://github.com/UofT-DSI/onboarding/blob/main/onboarding_documents/submissions.md)** 🚨 for detailed instructions on how to format, branch, and submit your work. Following these guidelines is crucial for your submissions to be evaluated correctly.\n",
    "\n",
    "### Submission Parameters:\n",
    "* Submission Due Date: `11:59 PM - 05/05/2024`\n",
    "* The branch name for your repo should be: `assignment-1`\n",
    "* What to submit for this assignment:\n",
    "    * This Jupyter Notebook (assignment_1.ipynb) should be populated and should be the only change in your pull request.\n",
    "* What the pull request link should look like for this assignment: `https://github.com/<your_github_username>/python/pull/<pr_id>`\n",
    "    * Open a private window in your browser. Copy and paste the link to your pull request into the address bar. Make sure you can see your pull request properly. This helps the technical facilitator and learning support staff review your submission easily.\n",
    "\n",
    "Checklist:\n",
    "- [ ] Created a branch with the correct naming convention.\n",
    "- [ ] Ensured that the repository is public.\n",
    "- [ ] Reviewed the PR description guidelines and adhered to them.\n",
    "- [ ] Verify that the link is accessible in a private browser window.\n",
    "\n",
    "If you encounter any difficulties or have questions, please don't hesitate to reach out to our team via our Slack at `#cohort-3-help`. Our Technical Facilitators and Learning Support staff are here to help you navigate any challenges."
   ]
  },
  {
   "cell_type": "markdown",
   "metadata": {},
   "source": [
    "### Part 1: Building the base Anagram Checker\n",
    "\n",
    "Given two valid strings, check to see if they are anagrams of each other. If it is, return `True`, else `False`. For this part, we can assume that uppercase letters are the same as if it was a lowercase character.\n",
    "\n",
    "Examples of anagrams:\n",
    "* Slient and Listen\n",
    "* Night and Think\n",
    "\n",
    "Example outputs:\n",
    "```python\n",
    "anagram_checker(\"Slient\", \"listen\") # True\n",
    "anagram_checker(\"Slient\", \"Night\") # False\n",
    "anagram_checker(\"night\", \"Thing\") # True\n",
    "```"
   ]
  },
  {
   "cell_type": "code",
   "execution_count": 9,
   "metadata": {},
   "outputs": [
    {
     "data": {
      "text/plain": [
       "True"
      ]
     },
     "execution_count": 9,
     "metadata": {},
     "output_type": "execute_result"
    }
   ],
   "source": [
    "# This is a function, which we will learn more about next week. For testing purposes, we will write our code in the function\n",
    "\n",
    "# This function will check if word_b is an anagram of word_a\n",
    "def anagram_checker(word_a, word_b):\n",
    "\n",
    "  # Check if word_a is the same length as word_b, if not return False\n",
    "  if len(word_a) != len(word_b):\n",
    "    return False\n",
    "   \n",
    "# Create a list of all the letters (in lowercase) that appear in word_a \n",
    "  word_a_list = []\n",
    "  for letter in word_a.lower():\n",
    "    word_a_list.append(letter)\n",
    "\n",
    "# Loop through the letters in word_b and check that these letters appear in word_a\n",
    "# We use word_a_list here, to ensure that no letter from word_a is used more than once in word_b\n",
    "  for letter in word_b.lower():\n",
    "    if letter in word_a_list:\n",
    "      word_a_list.remove(letter)\n",
    "    else:\n",
    "      return False\n",
    "  return True\n",
    "    \n",
    "\n",
    "# Run your code to check using the words below:\n",
    "anagram_checker(\"Slient\", \"listen\")"
   ]
  },
  {
   "cell_type": "code",
   "execution_count": 10,
   "metadata": {},
   "outputs": [
    {
     "data": {
      "text/plain": [
       "False"
      ]
     },
     "execution_count": 10,
     "metadata": {},
     "output_type": "execute_result"
    }
   ],
   "source": [
    "anagram_checker(\"Slient\", \"Night\")"
   ]
  },
  {
   "cell_type": "code",
   "execution_count": 11,
   "metadata": {},
   "outputs": [
    {
     "data": {
      "text/plain": [
       "True"
      ]
     },
     "execution_count": 11,
     "metadata": {},
     "output_type": "execute_result"
    }
   ],
   "source": [
    "anagram_checker(\"night\", \"Thing\")"
   ]
  },
  {
   "cell_type": "markdown",
   "metadata": {},
   "source": [
    "### Part 2: Expanding the functionality of the Anagram Checker\n",
    "\n",
    "Using your existing and functional anagram checker, let's add a boolean option called `is_case_sensitive`, which will return `True` or `False` based on if the two compared words are anagrams and if we are checking for case sensitivity."
   ]
  },
  {
   "cell_type": "code",
   "execution_count": 24,
   "metadata": {},
   "outputs": [
    {
     "ename": "TypeError",
     "evalue": "'str' object is not callable",
     "output_type": "error",
     "traceback": [
      "\u001b[1;31m---------------------------------------------------------------------------\u001b[0m",
      "\u001b[1;31mTypeError\u001b[0m                                 Traceback (most recent call last)",
      "Cell \u001b[1;32mIn[24], line 32\u001b[0m\n\u001b[0;32m     29\u001b[0m     \u001b[38;5;28;01mreturn\u001b[39;00m \u001b[38;5;28;01mTrue\u001b[39;00m\n\u001b[0;32m     31\u001b[0m \u001b[38;5;66;03m# Run your code to check using the words below:\u001b[39;00m\n\u001b[1;32m---> 32\u001b[0m \u001b[43managram_checker\u001b[49m\u001b[43m(\u001b[49m\u001b[38;5;124;43m\"\u001b[39;49m\u001b[38;5;124;43mSlient\u001b[39;49m\u001b[38;5;124;43m\"\u001b[39;49m\u001b[43m,\u001b[49m\u001b[43m \u001b[49m\u001b[38;5;124;43m\"\u001b[39;49m\u001b[38;5;124;43mlisten\u001b[39;49m\u001b[38;5;124;43m\"\u001b[39;49m\u001b[43m,\u001b[49m\u001b[43m \u001b[49m\u001b[38;5;28;43;01mFalse\u001b[39;49;00m\u001b[43m)\u001b[49m \u001b[38;5;66;03m# True\u001b[39;00m\n",
      "Cell \u001b[1;32mIn[24], line 21\u001b[0m, in \u001b[0;36managram_checker\u001b[1;34m(word_a, word_b, is_case_sensitive)\u001b[0m\n\u001b[0;32m     15\u001b[0m         word_a_list\u001b[38;5;241m.\u001b[39mappend(letter)\n\u001b[0;32m     18\u001b[0m \u001b[38;5;66;03m# Loop through the letters in word_b and check that these letters appear in word_a, if not return False\u001b[39;00m\n\u001b[0;32m     19\u001b[0m \u001b[38;5;66;03m# We use word_a_list here, to ensure that no letter from word_a is used more than once in word_b\u001b[39;00m\n\u001b[1;32m---> 21\u001b[0m     \u001b[38;5;28;01mfor\u001b[39;00m letter \u001b[38;5;129;01min\u001b[39;00m \u001b[43mword_b\u001b[49m\u001b[43m(\u001b[49m\u001b[43m)\u001b[49m:\n\u001b[0;32m     22\u001b[0m         \u001b[38;5;28;01mif\u001b[39;00m letter \u001b[38;5;129;01min\u001b[39;00m word_a_list:\n\u001b[0;32m     23\u001b[0m             \u001b[38;5;28;01mif\u001b[39;00m is_case_sensitive \u001b[38;5;241m==\u001b[39m \u001b[38;5;28;01mFalse\u001b[39;00m:\n",
      "\u001b[1;31mTypeError\u001b[0m: 'str' object is not callable"
     ]
    }
   ],
   "source": [
    "def anagram_checker(word_a, word_b, is_case_sensitive):\n",
    " \n",
    "  # Check if word_a is the same length as word_b, if not return False\n",
    "  if len(word_a) != len(word_b):\n",
    "    return False\n",
    "   \n",
    "# Create a list of all the letters that appear in word_a \n",
    "# If we are using case sensitivity add the letter as it is to word_a_list\n",
    "# If we are ignoring case sensitivity add the lowercase letter \n",
    "  word_a_list = []\n",
    "  for letter in word_a:\n",
    "    if is_case_sensitive == False:    \n",
    "        word_a_list.append(letter.lower())\n",
    "    else:\n",
    "        word_a_list.append(letter)\n",
    "  \n",
    "\n",
    "# Loop through the letters in word_b and check that these letters appear in word_a, if a letter does not appear return False\n",
    "# We use word_a_list here, to ensure that no letter from word_a is used more than once in word_b\n",
    "  if is_case_sensitive == False:\n",
    "    for letter in word_b.lower():\n",
    "        if letter in word_a_list:\n",
    "            word_a_list.remove(letter)\n",
    "        else:\n",
    "            return False\n",
    "    return True\n",
    "  \n",
    "  if is_case_sensitive == True:\n",
    "    for letter in word_b:\n",
    "       if letter in word_a_list:\n",
    "          word_a_list.remove(letter)\n",
    "       else:\n",
    "          return False\n",
    "    return True\n",
    "    \n",
    "\n",
    "# Run your code to check using the words below:\n",
    "anagram_checker(\"Slient\", \"listen\", False) # True"
   ]
  },
  {
   "cell_type": "code",
   "execution_count": 19,
   "metadata": {},
   "outputs": [
    {
     "data": {
      "text/plain": [
       "False"
      ]
     },
     "execution_count": 19,
     "metadata": {},
     "output_type": "execute_result"
    }
   ],
   "source": [
    "anagram_checker(\"Slient\", \"Listen\", True) # False"
   ]
  },
  {
   "cell_type": "code",
   "execution_count": null,
   "metadata": {},
   "outputs": [],
   "source": [
    "if is_case_sensitive == False:\n",
    "    for letter in word_b.lower():\n",
    "        if letter in word_a_list:\n",
    "            word_a_list.remove(letter)\n",
    "        else:\n",
    "            return False\n",
    "    return True\n",
    "  \n",
    "  if is_case_sensitive == True:\n",
    "    for letter in word_b:\n",
    "       if letter in word_a_list:\n",
    "          word_a_list.remove(letter)\n",
    "       else:\n",
    "          return False\n",
    "    return True"
   ]
  },
  {
   "cell_type": "markdown",
   "metadata": {},
   "source": [
    "|Criteria|Pass|Fail|\n",
    "|---|---|---|\n",
    "|Code Execution|All code cells execute without errors.|Any code cell produces an error upon execution.|\n",
    "|Code Quality|Code is well-organized, concise, and includes necessary comments for clarity. E.g. Great use of variable names.|Code is unorganized, verbose, or lacks necessary comments. E.g. Single character variable names outside of loops.|"
   ]
  }
 ],
 "metadata": {
  "kernelspec": {
   "display_name": "new-learner",
   "language": "python",
   "name": "python3"
  },
  "language_info": {
   "codemirror_mode": {
    "name": "ipython",
    "version": 3
   },
   "file_extension": ".py",
   "mimetype": "text/x-python",
   "name": "python",
   "nbconvert_exporter": "python",
   "pygments_lexer": "ipython3",
   "version": "3.9.15"
  }
 },
 "nbformat": 4,
 "nbformat_minor": 2
}
